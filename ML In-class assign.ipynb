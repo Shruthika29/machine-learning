{
 "cells": [
  {
   "cell_type": "code",
   "execution_count": 2,
   "id": "11b3e9a8",
   "metadata": {},
   "outputs": [
    {
     "name": "stdout",
     "output_type": "stream",
     "text": [
      "4\n",
      "* \n",
      "* * \n",
      "* * * \n",
      "* * * * \n",
      "* * * \n",
      "* * \n",
      "* \n"
     ]
    }
   ],
   "source": [
    "n=int(input())\n",
    "\n",
    "for i in range(1,n+1):\n",
    "        for j in range (i):\n",
    "                print(\"*\", end=\" \")\n",
    "        print(\"\")\n",
    "        \n",
    "for i in range(n-1,0,-1):\n",
    "        for j in range (i):\n",
    "                print('*', end=\" \")\n",
    "        print(\"\")"
   ]
  },
  {
   "cell_type": "code",
   "execution_count": 8,
   "id": "6509310d",
   "metadata": {},
   "outputs": [
    {
     "name": "stdout",
     "output_type": "stream",
     "text": [
      "[20, 40, 60, 80, 100]\n"
     ]
    }
   ],
   "source": [
    "my_list = [10, 20, 30, 40, 50 , 60, 70, 80, 90, 100]\n",
    "s=[] #declaring an array\n",
    "for i in my_list[1::2]: #finding odd number in list\n",
    "     s.append(i) #adding to s\n",
    "print(s) #printing odd numbers from the list\n"
   ]
  },
  {
   "cell_type": "code",
   "execution_count": 9,
   "id": "2bdd14f5",
   "metadata": {},
   "outputs": [
    {
     "name": "stdout",
     "output_type": "stream",
     "text": [
      "[23, 'python', 23.98]\n",
      "[<class 'int'>, <class 'str'>, <class 'float'>]\n"
     ]
    }
   ],
   "source": [
    "a=[23,'python',23.98]\n",
    "b=[]#declaring an array\n",
    "for i in a:\n",
    "    b.append(type(i))#finding type of elements of x and adding to y\n",
    "print(a)\n",
    "print(b)\n",
    "\n",
    "    "
   ]
  },
  {
   "cell_type": "code",
   "execution_count": 6,
   "id": "ee013b5b",
   "metadata": {},
   "outputs": [
    {
     "name": "stdout",
     "output_type": "stream",
     "text": [
      "enter the length of the number:8\n",
      "1\n",
      "2\n",
      "3\n",
      "3\n",
      "3\n",
      "3\n",
      "4\n",
      "5\n",
      "unique list is: [1, 2, 3, 4, 5]\n"
     ]
    }
   ],
   "source": [
    "def unique(j1):#declaration of unique function\n",
    "    x=list(set(j1))#converting input list into set for elimination of duplicate numbers\n",
    "    print(\"unique list is:\",x)\n",
    "j2=[]\n",
    "n=int(input(\"enter the length of the number:\"))\n",
    "for i in range(0,n):\n",
    "    j1=int(input())#taking dynamic input from user\n",
    "    j2.append(j1)#appending j1 to j2\n",
    "unique(j2)#calling the function\n"
   ]
  },
  {
   "cell_type": "code",
   "execution_count": 10,
   "id": "91675de0",
   "metadata": {},
   "outputs": [
    {
     "name": "stdout",
     "output_type": "stream",
     "text": [
      "No.of Uppercase char: 3\n",
      "No.of lowercase char: 12\n"
     ]
    }
   ],
   "source": [
    "n='The quick Brow Fox' \n",
    "ucount=0\n",
    "icount=0\n",
    "for i in n:\n",
    "    if i.isupper():#finding the letter is upper case or not\n",
    "        ucount=ucount+1#finding the letter is uppercase or not\n",
    "    if(i.islower()):\n",
    "        icount=icount+1#if lower letter incrementing the icount\n",
    "\n",
    "print(\"No.of Uppercase char:\",ucount)\n",
    "print(\"No.of lowercase char:\",icount)\n",
    "\n"
   ]
  },
  {
   "cell_type": "code",
   "execution_count": null,
   "id": "d732b530",
   "metadata": {},
   "outputs": [],
   "source": []
  }
 ],
 "metadata": {
  "kernelspec": {
   "display_name": "Python 3 (ipykernel)",
   "language": "python",
   "name": "python3"
  },
  "language_info": {
   "codemirror_mode": {
    "name": "ipython",
    "version": 3
   },
   "file_extension": ".py",
   "mimetype": "text/x-python",
   "name": "python",
   "nbconvert_exporter": "python",
   "pygments_lexer": "ipython3",
   "version": "3.9.13"
  }
 },
 "nbformat": 4,
 "nbformat_minor": 5
}
